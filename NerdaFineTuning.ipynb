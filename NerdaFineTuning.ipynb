{
  "nbformat": 4,
  "nbformat_minor": 0,
  "metadata": {
    "colab": {
      "name": "unofficialNerdaFineTuning.ipynb",
      "provenance": [],
      "collapsed_sections": []
    },
    "kernelspec": {
      "name": "python3",
      "display_name": "Python 3"
    },
    "language_info": {
      "name": "python"
    },
    "accelerator": "GPU"
  },
  "cells": [
    {
      "cell_type": "markdown",
      "metadata": {
        "id": "EaWernBAx1wx"
      },
      "source": [
        "https://towardsdatascience.com/easy-fine-tuning-of-transformers-for-named-entity-recognition-d72f2b5340e3\n"
      ]
    },
    {
      "cell_type": "markdown",
      "metadata": {
        "id": "oV9daViGuand"
      },
      "source": [
        "## Preparing dataset "
      ]
    },
    {
      "cell_type": "markdown",
      "metadata": {
        "id": "wKiBahF2KLN7"
      },
      "source": [
        "If you provide your own dataset, it must have the same structure:\n",
        "\n",
        "It must be a dictionary\n",
        "The dictionary must contain\n",
        "'sentences': a list of word-tokenized sentences with one sentence per entry\n",
        "'tags': a list with the corresponding named-entity tags.\n",
        "\n",
        "\n",
        "https://ebanalyse.github.io/NERDA/workflow/"
      ]
    },
    {
      "cell_type": "markdown",
      "metadata": {
        "id": "drY3j_ucV2x6"
      },
      "source": [
        "dataset and loading functions from https://github.com/CLARIN-PL/PolDeepNer"
      ]
    },
    {
      "cell_type": "markdown",
      "metadata": {
        "id": "YqvS9AkMYD-P"
      },
      "source": [
        "data source: nkjp-nested-simplified-v2.iob from git PolDeepNer/poldeepner/data"
      ]
    },
    {
      "cell_type": "code",
      "metadata": {
        "id": "EI6KwNBRV0Mp"
      },
      "source": [
        "def load_file(data_file_path):\n",
        "    ''' Function for loading data from .iob files or file with indices to such files\n",
        "    :param data_file_path: path to iob\n",
        "    '''\n",
        "\n",
        "    x_data, y_data = [], []\n",
        "\n",
        "    # Get data from iob file\n",
        "    if data_file_path.endswith('.iob') or data_file_path.endswith('.tsv'):\n",
        "        x_data, y_data = load_iob(data_file_path)\n",
        "\n",
        "    return x_data, y_data\n",
        "\n",
        "\n",
        "def load_iob(file_path, extra_features = False):\n",
        "    \"\"\"Loads data and label from a file.\n",
        "\n",
        "    Args:\n",
        "        file_path (str): path to the file.\n",
        "        extra_features(bool): use dictionary features from iob\n",
        "\n",
        "        The file format is tab-separated values.\n",
        "        A blank line is required at the end of a sentence.\n",
        "\n",
        "        For example:\n",
        "        ```\n",
        "        EU\tB-ORG\n",
        "        rejects\tO\n",
        "        German\tB-MISC\n",
        "        call\tO\n",
        "        to\tO\n",
        "        boycott\tO\n",
        "        British\tB-MISC\n",
        "        lamb\tO\n",
        "        .\tO\n",
        "\n",
        "        Peter\tB-PER\n",
        "        Blackburn\tI-PER\n",
        "        ...\n",
        "        ```\n",
        "\n",
        "    Returns:\n",
        "        tuple(numpy array, numpy array): data and labels.\n",
        "\n",
        "    Example:\n",
        "         filename = 'conll2003/en/ner/train.txt'\n",
        "         data, labels = load_data_and_labels(filename)\n",
        "    \"\"\"\n",
        "    sents, labels = [], []\n",
        "    words, tags = [], []\n",
        "    with open(file_path, 'r') as f:\n",
        "        for line in f:\n",
        "            if \"DOCSTART\" in line:\n",
        "                continue\n",
        "            line = line.rstrip()\n",
        "            if line:\n",
        "                cols = line.split('\\t')\n",
        "                if extra_features:\n",
        "                    words.append([cols[0]] + cols[3:-1])\n",
        "                else:\n",
        "                    words.append(cols[0])\n",
        "                tags.append(cols[-1])\n",
        "            else:\n",
        "                sents.append(words)\n",
        "                labels.append(tags)\n",
        "                words, tags = [], []\n",
        "        return sents, labels"
      ],
      "execution_count": 36,
      "outputs": []
    },
    {
      "cell_type": "code",
      "metadata": {
        "id": "rk7oODumWBpb"
      },
      "source": [
        "x, y = load_file('/content/drive/MyDrive/nkjp-nested-simplified-v2.iob')"
      ],
      "execution_count": 37,
      "outputs": []
    },
    {
      "cell_type": "code",
      "metadata": {
        "colab": {
          "base_uri": "https://localhost:8080/"
        },
        "id": "fvzPyACkMlhF",
        "outputId": "f7959197-6fdf-43c3-a792-ebbef4f470c6"
      },
      "source": [
        "print(x[0])\n",
        "print(y[0])"
      ],
      "execution_count": 38,
      "outputs": [
        {
          "output_type": "stream",
          "name": "stdout",
          "text": [
            "['Zatrzasnął', 'drzwi', 'od', 'mieszkania', ',', 'dwa', 'razy', 'przekręcił', 'klucz', ',', 'nacisnął', 'klamkę', ',', 'by', 'sprawdzić', ',', 'czy', 'dobrze', 'zamknięte', ',', 'zbiegł', 'po', 'schodach', ',', 'minął', 'furtkę', ',', 'także', 'ją', 'zamknął', ',', 'i', 'znalazł', 'się', 'na', 'wąskiej', 'uliczce', 'między', 'ogródkami', ',', 'gdzie', 'drzemały', 'w', 'majowym', 'słońcu', 'trójkątne', 'ciemnozielone', 'świerki', ',', 'jakich', 'nie', 'było', 'w', 'pobliżu', 'jego', 'domu', '.']\n",
            "['O', 'O', 'O', 'O', 'O', 'O', 'O', 'O', 'O', 'O', 'O', 'O', 'O', 'O', 'O', 'O', 'O', 'O', 'O', 'O', 'O', 'O', 'O', 'O', 'O', 'O', 'O', 'O', 'O', 'O', 'O', 'O', 'O', 'O', 'O', 'O', 'O', 'O', 'O', 'O', 'O', 'O', 'O', 'O', 'O', 'O', 'O', 'O', 'O', 'O', 'O', 'O', 'O', 'O', 'O', 'O', 'O']\n"
          ]
        }
      ]
    },
    {
      "cell_type": "code",
      "metadata": {
        "colab": {
          "base_uri": "https://localhost:8080/"
        },
        "id": "ZRMQD4k_PpNV",
        "outputId": "8bbf8402-e8f2-4ea9-b9e6-6708d77fe39b"
      },
      "source": [
        "all_labels = []\n",
        "for l in y:\n",
        "  all_labels.extend(l)\n",
        "print(set(all_labels))"
      ],
      "execution_count": 39,
      "outputs": [
        {
          "output_type": "stream",
          "name": "stdout",
          "text": [
            "{'I-persName#B-persName-surname', 'B-persName#B-persName-surname', 'I-placeName-settlement', 'I-placeName-bloc', 'I-placeName-country', 'I-persName', 'B-orgName#B-placeName-settlement', 'B-placeName', 'B-placeName-district', 'B-placeName-region', 'B-persName-addName', 'I-persName#I-persName-addName', 'I-orgName', 'B-time', 'I-placeName', 'I-persName#B-persName-addName', 'B-persName', 'B-placeName-country', 'B-orgName', 'B-placeName-bloc', 'I-persName#I-persName-surname', 'I-persName#I-persName-forename', 'I-placeName-district', 'B-placeName-settlement', 'I-persName-surname', 'O', 'I-time', 'B-persName-surname', 'I-orgName#I-placeName-settlement', 'B-geogName', 'B-persName#B-persName-forename', 'I-geogName', 'I-date', 'B-persName-forename', 'I-orgName#B-placeName-settlement', 'I-placeName-region', 'I-persName#B-persName-forename', 'B-date', 'B-persName#B-persName-addName', 'I-persName-forename'}\n"
          ]
        }
      ]
    },
    {
      "cell_type": "code",
      "metadata": {
        "id": "LXmhsd1zQzmO"
      },
      "source": [
        "def transform_labels(labels_list):\n",
        "  new_labels = []\n",
        "  for label in labels_list:\n",
        "    if label == 'O':\n",
        "      new_labels.append(label)\n",
        "    elif '#' in label:\n",
        "      new_labels.append(label.split('#')[-1])\n",
        "    else:\n",
        "      new_labels.append(label)\n",
        "  return new_labels"
      ],
      "execution_count": 42,
      "outputs": []
    },
    {
      "cell_type": "code",
      "metadata": {
        "id": "osm6CCplRqMC"
      },
      "source": [
        "y_cut = [transform_labels(labels) for labels in y]"
      ],
      "execution_count": 43,
      "outputs": []
    },
    {
      "cell_type": "code",
      "metadata": {
        "colab": {
          "base_uri": "https://localhost:8080/"
        },
        "id": "ne_y8zbPW5p7",
        "outputId": "3a759bb1-f2d9-4526-c49b-9d79909f38c7"
      },
      "source": [
        "all_labels = []\n",
        "for l in y_cut:\n",
        "  all_labels.extend(l)\n",
        "print(set(all_labels))"
      ],
      "execution_count": 45,
      "outputs": [
        {
          "output_type": "stream",
          "name": "stdout",
          "text": [
            "{'I-placeName-settlement', 'I-placeName-bloc', 'I-placeName-country', 'I-persName', 'B-placeName', 'B-placeName-district', 'B-placeName-region', 'B-persName-addName', 'I-orgName', 'B-time', 'I-placeName', 'B-persName', 'I-persName-addName', 'B-placeName-country', 'B-orgName', 'B-placeName-bloc', 'I-placeName-district', 'B-placeName-settlement', 'I-persName-surname', 'O', 'I-time', 'B-persName-surname', 'B-geogName', 'I-geogName', 'B-persName-forename', 'I-date', 'I-placeName-region', 'B-date', 'I-persName-forename'}\n"
          ]
        }
      ]
    },
    {
      "cell_type": "code",
      "metadata": {
        "id": "26_2GKPyS7FN"
      },
      "source": [
        "tag_scheme = list(set(all_labels))\n",
        "tag_scheme.remove('O')"
      ],
      "execution_count": 46,
      "outputs": []
    },
    {
      "cell_type": "code",
      "metadata": {
        "colab": {
          "base_uri": "https://localhost:8080/"
        },
        "id": "a_C-1MtATK7s",
        "outputId": "967bb082-d5ea-434e-d3b0-4faa9841dd0f"
      },
      "source": [
        "print(tag_scheme)"
      ],
      "execution_count": 47,
      "outputs": [
        {
          "output_type": "stream",
          "name": "stdout",
          "text": [
            "['I-placeName-settlement', 'I-placeName-bloc', 'I-placeName-country', 'I-persName', 'B-placeName', 'B-placeName-district', 'B-placeName-region', 'B-persName-addName', 'I-orgName', 'B-time', 'I-placeName', 'B-persName', 'I-persName-addName', 'B-placeName-country', 'B-orgName', 'B-placeName-bloc', 'I-placeName-district', 'B-placeName-settlement', 'I-persName-surname', 'I-time', 'B-persName-surname', 'B-geogName', 'I-geogName', 'B-persName-forename', 'I-date', 'I-placeName-region', 'B-date', 'I-persName-forename']\n"
          ]
        }
      ]
    },
    {
      "cell_type": "code",
      "metadata": {
        "id": "vGwNQvlbOal3"
      },
      "source": [
        "from sklearn.model_selection import train_test_split\n",
        "x_train, x_rem, y_train, y_rem = train_test_split(x, y_cut, test_size=0.2, random_state=0)\n",
        "x_test, x_val, y_test, y_val = train_test_split(x_rem, y_rem, test_size=0.5, random_state=42)"
      ],
      "execution_count": 48,
      "outputs": []
    },
    {
      "cell_type": "code",
      "metadata": {
        "id": "9ueravaxOulS"
      },
      "source": [
        "class NERDAtaset:\n",
        "  def __init__(self, x, y):\n",
        "    self.sentences = x\n",
        "    self.tags = y\n",
        "  \n",
        "  def get(self, attrib):\n",
        "    if attrib == 'sentences':\n",
        "      return self.sentences\n",
        "    elif attrib == 'tags':\n",
        "      return self.tags"
      ],
      "execution_count": 49,
      "outputs": []
    },
    {
      "cell_type": "code",
      "metadata": {
        "id": "AwoSCWeoPI1t"
      },
      "source": [
        "train_ds = NERDAtaset(x_train, y_train)\n",
        "val_ds = NERDAtaset(x_val, y_val)\n",
        "test_ds = NERDAtaset(x_test, y_test)"
      ],
      "execution_count": 50,
      "outputs": []
    },
    {
      "cell_type": "code",
      "metadata": {
        "colab": {
          "base_uri": "https://localhost:8080/"
        },
        "id": "Z7M4iKe6VDzf",
        "outputId": "95a6d201-dbd4-441b-9e7e-e4ba5cf4803b"
      },
      "source": [
        "print(len(train_ds.get('tags')))"
      ],
      "execution_count": 51,
      "outputs": [
        {
          "output_type": "stream",
          "name": "stdout",
          "text": [
            "68530\n"
          ]
        }
      ]
    },
    {
      "cell_type": "code",
      "metadata": {
        "colab": {
          "base_uri": "https://localhost:8080/"
        },
        "id": "03DzvMtMVJGi",
        "outputId": "840141aa-6120-4459-8607-bfa8b762d96a"
      },
      "source": [
        "print(len(train_ds.get('sentences')))"
      ],
      "execution_count": 52,
      "outputs": [
        {
          "output_type": "stream",
          "name": "stdout",
          "text": [
            "68530\n"
          ]
        }
      ]
    },
    {
      "cell_type": "markdown",
      "metadata": {
        "id": "IdALdHa6wE5I"
      },
      "source": [
        "## Preparing model"
      ]
    },
    {
      "cell_type": "code",
      "metadata": {
        "colab": {
          "base_uri": "https://localhost:8080/"
        },
        "id": "Tr-NymcEwKiv",
        "outputId": "4c9befff-ec3c-4ef8-c66f-9d80b761ce55"
      },
      "source": [
        "!pip install transformers"
      ],
      "execution_count": 53,
      "outputs": [
        {
          "output_type": "stream",
          "name": "stdout",
          "text": [
            "Requirement already satisfied: transformers in /usr/local/lib/python3.7/dist-packages (4.11.3)\n",
            "Requirement already satisfied: pyyaml>=5.1 in /usr/local/lib/python3.7/dist-packages (from transformers) (5.4.1)\n",
            "Requirement already satisfied: regex!=2019.12.17 in /usr/local/lib/python3.7/dist-packages (from transformers) (2019.12.20)\n",
            "Requirement already satisfied: huggingface-hub>=0.0.17 in /usr/local/lib/python3.7/dist-packages (from transformers) (0.0.19)\n",
            "Requirement already satisfied: packaging>=20.0 in /usr/local/lib/python3.7/dist-packages (from transformers) (21.0)\n",
            "Requirement already satisfied: numpy>=1.17 in /usr/local/lib/python3.7/dist-packages (from transformers) (1.19.5)\n",
            "Requirement already satisfied: filelock in /usr/local/lib/python3.7/dist-packages (from transformers) (3.3.0)\n",
            "Requirement already satisfied: importlib-metadata in /usr/local/lib/python3.7/dist-packages (from transformers) (4.8.1)\n",
            "Requirement already satisfied: tokenizers<0.11,>=0.10.1 in /usr/local/lib/python3.7/dist-packages (from transformers) (0.10.3)\n",
            "Requirement already satisfied: sacremoses in /usr/local/lib/python3.7/dist-packages (from transformers) (0.0.46)\n",
            "Requirement already satisfied: tqdm>=4.27 in /usr/local/lib/python3.7/dist-packages (from transformers) (4.62.3)\n",
            "Requirement already satisfied: requests in /usr/local/lib/python3.7/dist-packages (from transformers) (2.23.0)\n",
            "Requirement already satisfied: typing-extensions in /usr/local/lib/python3.7/dist-packages (from huggingface-hub>=0.0.17->transformers) (3.7.4.3)\n",
            "Requirement already satisfied: pyparsing>=2.0.2 in /usr/local/lib/python3.7/dist-packages (from packaging>=20.0->transformers) (2.4.7)\n",
            "Requirement already satisfied: zipp>=0.5 in /usr/local/lib/python3.7/dist-packages (from importlib-metadata->transformers) (3.6.0)\n",
            "Requirement already satisfied: urllib3!=1.25.0,!=1.25.1,<1.26,>=1.21.1 in /usr/local/lib/python3.7/dist-packages (from requests->transformers) (1.24.3)\n",
            "Requirement already satisfied: certifi>=2017.4.17 in /usr/local/lib/python3.7/dist-packages (from requests->transformers) (2021.5.30)\n",
            "Requirement already satisfied: chardet<4,>=3.0.2 in /usr/local/lib/python3.7/dist-packages (from requests->transformers) (3.0.4)\n",
            "Requirement already satisfied: idna<3,>=2.5 in /usr/local/lib/python3.7/dist-packages (from requests->transformers) (2.10)\n",
            "Requirement already satisfied: click in /usr/local/lib/python3.7/dist-packages (from sacremoses->transformers) (7.1.2)\n",
            "Requirement already satisfied: six in /usr/local/lib/python3.7/dist-packages (from sacremoses->transformers) (1.15.0)\n",
            "Requirement already satisfied: joblib in /usr/local/lib/python3.7/dist-packages (from sacremoses->transformers) (1.0.1)\n"
          ]
        }
      ]
    },
    {
      "cell_type": "code",
      "metadata": {
        "colab": {
          "base_uri": "https://localhost:8080/"
        },
        "id": "RaMp_gTdQBdO",
        "outputId": "17f1897e-669c-4571-ab9d-7fc4d35db203"
      },
      "source": [
        "!pip install NERDA"
      ],
      "execution_count": 54,
      "outputs": [
        {
          "output_type": "stream",
          "name": "stdout",
          "text": [
            "Requirement already satisfied: NERDA in /usr/local/lib/python3.7/dist-packages (1.0.0)\n",
            "Requirement already satisfied: transformers in /usr/local/lib/python3.7/dist-packages (from NERDA) (4.11.3)\n",
            "Requirement already satisfied: pyconll in /usr/local/lib/python3.7/dist-packages (from NERDA) (3.1.0)\n",
            "Requirement already satisfied: nltk in /usr/local/lib/python3.7/dist-packages (from NERDA) (3.2.5)\n",
            "Requirement already satisfied: pandas in /usr/local/lib/python3.7/dist-packages (from NERDA) (1.1.5)\n",
            "Requirement already satisfied: progressbar in /usr/local/lib/python3.7/dist-packages (from NERDA) (2.5)\n",
            "Requirement already satisfied: sklearn in /usr/local/lib/python3.7/dist-packages (from NERDA) (0.0)\n",
            "Requirement already satisfied: torch in /usr/local/lib/python3.7/dist-packages (from NERDA) (1.9.0+cu111)\n",
            "Requirement already satisfied: six in /usr/local/lib/python3.7/dist-packages (from nltk->NERDA) (1.15.0)\n",
            "Requirement already satisfied: numpy>=1.15.4 in /usr/local/lib/python3.7/dist-packages (from pandas->NERDA) (1.19.5)\n",
            "Requirement already satisfied: pytz>=2017.2 in /usr/local/lib/python3.7/dist-packages (from pandas->NERDA) (2018.9)\n",
            "Requirement already satisfied: python-dateutil>=2.7.3 in /usr/local/lib/python3.7/dist-packages (from pandas->NERDA) (2.8.2)\n",
            "Requirement already satisfied: scikit-learn in /usr/local/lib/python3.7/dist-packages (from sklearn->NERDA) (0.22.2.post1)\n",
            "Requirement already satisfied: scipy>=0.17.0 in /usr/local/lib/python3.7/dist-packages (from scikit-learn->sklearn->NERDA) (1.4.1)\n",
            "Requirement already satisfied: joblib>=0.11 in /usr/local/lib/python3.7/dist-packages (from scikit-learn->sklearn->NERDA) (1.0.1)\n",
            "Requirement already satisfied: typing-extensions in /usr/local/lib/python3.7/dist-packages (from torch->NERDA) (3.7.4.3)\n",
            "Requirement already satisfied: pyyaml>=5.1 in /usr/local/lib/python3.7/dist-packages (from transformers->NERDA) (5.4.1)\n",
            "Requirement already satisfied: regex!=2019.12.17 in /usr/local/lib/python3.7/dist-packages (from transformers->NERDA) (2019.12.20)\n",
            "Requirement already satisfied: requests in /usr/local/lib/python3.7/dist-packages (from transformers->NERDA) (2.23.0)\n",
            "Requirement already satisfied: tqdm>=4.27 in /usr/local/lib/python3.7/dist-packages (from transformers->NERDA) (4.62.3)\n",
            "Requirement already satisfied: filelock in /usr/local/lib/python3.7/dist-packages (from transformers->NERDA) (3.3.0)\n",
            "Requirement already satisfied: sacremoses in /usr/local/lib/python3.7/dist-packages (from transformers->NERDA) (0.0.46)\n",
            "Requirement already satisfied: tokenizers<0.11,>=0.10.1 in /usr/local/lib/python3.7/dist-packages (from transformers->NERDA) (0.10.3)\n",
            "Requirement already satisfied: packaging>=20.0 in /usr/local/lib/python3.7/dist-packages (from transformers->NERDA) (21.0)\n",
            "Requirement already satisfied: importlib-metadata in /usr/local/lib/python3.7/dist-packages (from transformers->NERDA) (4.8.1)\n",
            "Requirement already satisfied: huggingface-hub>=0.0.17 in /usr/local/lib/python3.7/dist-packages (from transformers->NERDA) (0.0.19)\n",
            "Requirement already satisfied: pyparsing>=2.0.2 in /usr/local/lib/python3.7/dist-packages (from packaging>=20.0->transformers->NERDA) (2.4.7)\n",
            "Requirement already satisfied: zipp>=0.5 in /usr/local/lib/python3.7/dist-packages (from importlib-metadata->transformers->NERDA) (3.6.0)\n",
            "Requirement already satisfied: urllib3!=1.25.0,!=1.25.1,<1.26,>=1.21.1 in /usr/local/lib/python3.7/dist-packages (from requests->transformers->NERDA) (1.24.3)\n",
            "Requirement already satisfied: chardet<4,>=3.0.2 in /usr/local/lib/python3.7/dist-packages (from requests->transformers->NERDA) (3.0.4)\n",
            "Requirement already satisfied: certifi>=2017.4.17 in /usr/local/lib/python3.7/dist-packages (from requests->transformers->NERDA) (2021.5.30)\n",
            "Requirement already satisfied: idna<3,>=2.5 in /usr/local/lib/python3.7/dist-packages (from requests->transformers->NERDA) (2.10)\n",
            "Requirement already satisfied: click in /usr/local/lib/python3.7/dist-packages (from sacremoses->transformers->NERDA) (7.1.2)\n"
          ]
        }
      ]
    },
    {
      "cell_type": "code",
      "metadata": {
        "id": "sZxVwxGzwOJM"
      },
      "source": [
        "transformer = 'allegro/herbert-base-cased'"
      ],
      "execution_count": 55,
      "outputs": []
    },
    {
      "cell_type": "code",
      "metadata": {
        "id": "NOt7UDPSwNDC"
      },
      "source": [
        "# hyperparameters for network\n",
        "dropout = 0.1\n",
        "# hyperparameters for training\n",
        "training_hyperparameters = {'epochs' : 4, 'warmup_steps' : 500,'train_batch_size': 13, 'learning_rate': 0.0001}"
      ],
      "execution_count": 56,
      "outputs": []
    },
    {
      "cell_type": "code",
      "metadata": {
        "id": "WRAikaxE3-hQ"
      },
      "source": [
        "from NERDA.models import NERDA"
      ],
      "execution_count": 57,
      "outputs": []
    },
    {
      "cell_type": "code",
      "metadata": {
        "colab": {
          "base_uri": "https://localhost:8080/"
        },
        "id": "1YZsn1gNQDK4",
        "outputId": "40f2423c-fc84-4ee2-d00b-60f7ea22d112"
      },
      "source": [
        "model = NERDA(dataset_training = train_ds,\n",
        "              dataset_validation = val_ds,\n",
        "              tag_scheme = tag_scheme, \n",
        "              tag_outside = 'O',\n",
        "              transformer = transformer,\n",
        "              dropout = dropout,\n",
        "              hyperparameters = training_hyperparameters,\n",
        "              max_len = 128)"
      ],
      "execution_count": 58,
      "outputs": [
        {
          "output_type": "stream",
          "name": "stdout",
          "text": [
            "Device automatically set to: cuda\n"
          ]
        },
        {
          "output_type": "stream",
          "name": "stderr",
          "text": [
            "Some weights of the model checkpoint at allegro/herbert-base-cased were not used when initializing BertModel: ['cls.predictions.bias', 'cls.predictions.transform.dense.bias', 'cls.predictions.transform.LayerNorm.weight', 'cls.predictions.transform.dense.weight', 'cls.predictions.decoder.bias', 'cls.predictions.transform.LayerNorm.bias', 'cls.sso.sso_relationship.bias', 'cls.predictions.decoder.weight', 'cls.sso.sso_relationship.weight']\n",
            "- This IS expected if you are initializing BertModel from the checkpoint of a model trained on another task or with another architecture (e.g. initializing a BertForSequenceClassification model from a BertForPreTraining model).\n",
            "- This IS NOT expected if you are initializing BertModel from the checkpoint of a model that you expect to be exactly identical (initializing a BertForSequenceClassification model from a BertForSequenceClassification model).\n"
          ]
        }
      ]
    },
    {
      "cell_type": "code",
      "metadata": {
        "colab": {
          "base_uri": "https://localhost:8080/"
        },
        "id": "NQwFOEyxcU5_",
        "outputId": "3fffa52a-fba7-4bde-9891-536799289001"
      },
      "source": [
        "model.train()"
      ],
      "execution_count": null,
      "outputs": [
        {
          "output_type": "stream",
          "name": "stdout",
          "text": [
            "\n",
            " Epoch 1 / 4\n"
          ]
        },
        {
          "output_type": "stream",
          "name": "stderr",
          "text": [
            " 22%|██▏       | 1166/5272 [12:06<42:50,  1.60it/s]"
          ]
        }
      ]
    },
    {
      "cell_type": "code",
      "metadata": {
        "id": "4NNQYy3NVdZY"
      },
      "source": [
        "model.evaluate_performance(test_ds)"
      ],
      "execution_count": null,
      "outputs": []
    },
    {
      "cell_type": "code",
      "metadata": {
        "id": "97l5asUF-tjC"
      },
      "source": [
        "model.save_network('nermodel2.bin')"
      ],
      "execution_count": null,
      "outputs": []
    },
    {
      "cell_type": "code",
      "metadata": {
        "id": "_aAcoZtp5u98"
      },
      "source": [
        "%cp /content/nermodel.bin /content/drive/MyDrive/ "
      ],
      "execution_count": 24,
      "outputs": []
    },
    {
      "cell_type": "code",
      "metadata": {
        "id": "NCc4BJxCx_-P"
      },
      "source": [
        "from NERDA.precooked import Precooked"
      ],
      "execution_count": 25,
      "outputs": []
    },
    {
      "cell_type": "code",
      "metadata": {
        "colab": {
          "base_uri": "https://localhost:8080/"
        },
        "id": "veJOc1ot_yKi",
        "outputId": "0b1cc017-2458-4085-bee5-c9245789629c"
      },
      "source": [
        "\n",
        "loaded_model = Precooked(tag_scheme = tag_scheme,\n",
        "                     tag_outside = 'O',\n",
        "                     transformer = transformer,\n",
        "                     max_len = 128)"
      ],
      "execution_count": 26,
      "outputs": [
        {
          "output_type": "stream",
          "name": "stdout",
          "text": [
            "Device automatically set to: cuda\n"
          ]
        },
        {
          "output_type": "stream",
          "name": "stderr",
          "text": [
            "Some weights of the model checkpoint at allegro/herbert-base-cased were not used when initializing BertModel: ['cls.predictions.bias', 'cls.predictions.transform.dense.bias', 'cls.predictions.transform.LayerNorm.weight', 'cls.predictions.transform.dense.weight', 'cls.predictions.decoder.bias', 'cls.predictions.transform.LayerNorm.bias', 'cls.sso.sso_relationship.bias', 'cls.predictions.decoder.weight', 'cls.sso.sso_relationship.weight']\n",
            "- This IS expected if you are initializing BertModel from the checkpoint of a model trained on another task or with another architecture (e.g. initializing a BertForSequenceClassification model from a BertForPreTraining model).\n",
            "- This IS NOT expected if you are initializing BertModel from the checkpoint of a model that you expect to be exactly identical (initializing a BertForSequenceClassification model from a BertForSequenceClassification model).\n"
          ]
        }
      ]
    },
    {
      "cell_type": "code",
      "metadata": {
        "colab": {
          "base_uri": "https://localhost:8080/",
          "height": 37
        },
        "id": "fMPCqbhkWD1t",
        "outputId": "c0d6658d-3135-4fb7-b1d6-da4be66e4340"
      },
      "source": [
        "loaded_model.load_network_from_file('/content/drive/MyDrive/nermodel.bin')"
      ],
      "execution_count": 27,
      "outputs": [
        {
          "output_type": "execute_result",
          "data": {
            "application/vnd.google.colaboratory.intrinsic+json": {
              "type": "string"
            },
            "text/plain": [
              "'Weights for network loaded from /content/drive/MyDrive/nermodel.bin'"
            ]
          },
          "metadata": {},
          "execution_count": 27
        }
      ]
    },
    {
      "cell_type": "code",
      "metadata": {
        "id": "lCogRcNGPFwd",
        "colab": {
          "base_uri": "https://localhost:8080/"
        },
        "outputId": "7740711d-2c76-44c3-a626-306b95b46b0a"
      },
      "source": [
        "import nltk\n",
        "nltk.download('punkt')"
      ],
      "execution_count": 29,
      "outputs": [
        {
          "output_type": "stream",
          "name": "stdout",
          "text": [
            "[nltk_data] Downloading package punkt to /root/nltk_data...\n",
            "[nltk_data]   Unzipping tokenizers/punkt.zip.\n"
          ]
        },
        {
          "output_type": "execute_result",
          "data": {
            "text/plain": [
              "True"
            ]
          },
          "metadata": {},
          "execution_count": 29
        }
      ]
    },
    {
      "cell_type": "code",
      "metadata": {
        "colab": {
          "base_uri": "https://localhost:8080/"
        },
        "id": "SXvZ3mEQvCcC",
        "outputId": "8c227dc9-3171-4c8b-9ff5-a23db8467ac3"
      },
      "source": [
        "loaded_model.predict_text('Adrianna Klank będzie studiować w Edynburgu.')"
      ],
      "execution_count": 30,
      "outputs": [
        {
          "output_type": "execute_result",
          "data": {
            "text/plain": [
              "([['Adrianna', 'Klank', 'będzie', 'studiować', 'w', 'Edynburgu', '.']],\n",
              " [['B-persName', 'I-persName', 'O', 'O', 'O', 'B-placeName', 'O']])"
            ]
          },
          "metadata": {},
          "execution_count": 30
        }
      ]
    },
    {
      "cell_type": "code",
      "metadata": {
        "colab": {
          "base_uri": "https://localhost:8080/",
          "height": 483
        },
        "id": "ISnBQQCxXClz",
        "outputId": "30cc8855-97e9-4242-ba42-2ad9a64197d1"
      },
      "source": [
        "loaded_model.evaluate_performance(test_ds)"
      ],
      "execution_count": 31,
      "outputs": [
        {
          "output_type": "execute_result",
          "data": {
            "text/html": [
              "<div>\n",
              "<style scoped>\n",
              "    .dataframe tbody tr th:only-of-type {\n",
              "        vertical-align: middle;\n",
              "    }\n",
              "\n",
              "    .dataframe tbody tr th {\n",
              "        vertical-align: top;\n",
              "    }\n",
              "\n",
              "    .dataframe thead th {\n",
              "        text-align: right;\n",
              "    }\n",
              "</style>\n",
              "<table border=\"1\" class=\"dataframe\">\n",
              "  <thead>\n",
              "    <tr style=\"text-align: right;\">\n",
              "      <th></th>\n",
              "      <th>Level</th>\n",
              "      <th>F1-Score</th>\n",
              "      <th>Precision</th>\n",
              "      <th>Recall</th>\n",
              "    </tr>\n",
              "  </thead>\n",
              "  <tbody>\n",
              "    <tr>\n",
              "      <th>0</th>\n",
              "      <td>B-geogName</td>\n",
              "      <td>0.744000</td>\n",
              "      <td>0.745989</td>\n",
              "      <td>0.742021</td>\n",
              "    </tr>\n",
              "    <tr>\n",
              "      <th>1</th>\n",
              "      <td>I-orgName</td>\n",
              "      <td>0.891977</td>\n",
              "      <td>0.864466</td>\n",
              "      <td>0.921296</td>\n",
              "    </tr>\n",
              "    <tr>\n",
              "      <th>2</th>\n",
              "      <td>B-time</td>\n",
              "      <td>0.894737</td>\n",
              "      <td>0.864407</td>\n",
              "      <td>0.927273</td>\n",
              "    </tr>\n",
              "    <tr>\n",
              "      <th>3</th>\n",
              "      <td>I-placeName</td>\n",
              "      <td>0.800000</td>\n",
              "      <td>0.781250</td>\n",
              "      <td>0.819672</td>\n",
              "    </tr>\n",
              "    <tr>\n",
              "      <th>4</th>\n",
              "      <td>I-geogName</td>\n",
              "      <td>0.809353</td>\n",
              "      <td>0.845865</td>\n",
              "      <td>0.775862</td>\n",
              "    </tr>\n",
              "    <tr>\n",
              "      <th>5</th>\n",
              "      <td>B-persName</td>\n",
              "      <td>0.946937</td>\n",
              "      <td>0.942843</td>\n",
              "      <td>0.951066</td>\n",
              "    </tr>\n",
              "    <tr>\n",
              "      <th>6</th>\n",
              "      <td>I-persName</td>\n",
              "      <td>0.953570</td>\n",
              "      <td>0.955956</td>\n",
              "      <td>0.951195</td>\n",
              "    </tr>\n",
              "    <tr>\n",
              "      <th>7</th>\n",
              "      <td>I-date</td>\n",
              "      <td>0.977001</td>\n",
              "      <td>0.972527</td>\n",
              "      <td>0.981516</td>\n",
              "    </tr>\n",
              "    <tr>\n",
              "      <th>8</th>\n",
              "      <td>B-date</td>\n",
              "      <td>0.959432</td>\n",
              "      <td>0.959432</td>\n",
              "      <td>0.959432</td>\n",
              "    </tr>\n",
              "    <tr>\n",
              "      <th>9</th>\n",
              "      <td>B-placeName</td>\n",
              "      <td>0.921805</td>\n",
              "      <td>0.915982</td>\n",
              "      <td>0.927703</td>\n",
              "    </tr>\n",
              "    <tr>\n",
              "      <th>10</th>\n",
              "      <td>I-time</td>\n",
              "      <td>0.953271</td>\n",
              "      <td>0.944444</td>\n",
              "      <td>0.962264</td>\n",
              "    </tr>\n",
              "    <tr>\n",
              "      <th>11</th>\n",
              "      <td>B-orgName</td>\n",
              "      <td>0.862917</td>\n",
              "      <td>0.858392</td>\n",
              "      <td>0.867491</td>\n",
              "    </tr>\n",
              "    <tr>\n",
              "      <th>0</th>\n",
              "      <td>AVG_MICRO</td>\n",
              "      <td>0.912889</td>\n",
              "      <td>NaN</td>\n",
              "      <td>NaN</td>\n",
              "    </tr>\n",
              "    <tr>\n",
              "      <th>0</th>\n",
              "      <td>AVG_MICRO</td>\n",
              "      <td>0.892917</td>\n",
              "      <td>NaN</td>\n",
              "      <td>NaN</td>\n",
              "    </tr>\n",
              "  </tbody>\n",
              "</table>\n",
              "</div>"
            ],
            "text/plain": [
              "          Level  F1-Score  Precision    Recall\n",
              "0    B-geogName  0.744000   0.745989  0.742021\n",
              "1     I-orgName  0.891977   0.864466  0.921296\n",
              "2        B-time  0.894737   0.864407  0.927273\n",
              "3   I-placeName  0.800000   0.781250  0.819672\n",
              "4    I-geogName  0.809353   0.845865  0.775862\n",
              "5    B-persName  0.946937   0.942843  0.951066\n",
              "6    I-persName  0.953570   0.955956  0.951195\n",
              "7        I-date  0.977001   0.972527  0.981516\n",
              "8        B-date  0.959432   0.959432  0.959432\n",
              "9   B-placeName  0.921805   0.915982  0.927703\n",
              "10       I-time  0.953271   0.944444  0.962264\n",
              "11    B-orgName  0.862917   0.858392  0.867491\n",
              "0     AVG_MICRO  0.912889        NaN       NaN\n",
              "0     AVG_MICRO  0.892917        NaN       NaN"
            ]
          },
          "metadata": {},
          "execution_count": 31
        }
      ]
    },
    {
      "cell_type": "code",
      "metadata": {
        "id": "XkkibtdjAy26"
      },
      "source": [
        ""
      ],
      "execution_count": null,
      "outputs": []
    }
  ]
}